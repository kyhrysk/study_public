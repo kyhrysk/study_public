{
  "nbformat": 4,
  "nbformat_minor": 0,
  "metadata": {
    "colab": {
      "name": "demo_pystan_v330.ipynb",
      "provenance": [],
      "authorship_tag": "ABX9TyPIGwwt5wlmfSIIcPE4XTNC",
      "include_colab_link": true
    },
    "kernelspec": {
      "name": "python3",
      "display_name": "Python 3"
    },
    "language_info": {
      "name": "python"
    }
  },
  "cells": [
    {
      "cell_type": "markdown",
      "metadata": {
        "id": "view-in-github",
        "colab_type": "text"
      },
      "source": [
        "<a href=\"https://colab.research.google.com/github/kyhrysk/study_public/blob/main/demo_pystan_v330.ipynb\" target=\"_parent\"><img src=\"https://colab.research.google.com/assets/colab-badge.svg\" alt=\"Open In Colab\"/></a>"
      ]
    },
    {
      "cell_type": "markdown",
      "source": [
        "pystan3を用いてデモコードを実行してみる\n",
        "\n",
        "→pystan_jupyterを用いないとエラーになるため注意"
      ],
      "metadata": {
        "id": "HGfKTvhveZ0N"
      }
    },
    {
      "cell_type": "code",
      "execution_count": 3,
      "metadata": {
        "colab": {
          "base_uri": "https://localhost:8080/"
        },
        "id": "IiPTfnkSc9vk",
        "outputId": "269925ed-6972-4a67-8d14-43d2c6078ca1"
      },
      "outputs": [
        {
          "output_type": "stream",
          "name": "stdout",
          "text": [
            "Collecting pystan-jupyter\n",
            "  Downloading pystan_jupyter-0.2b1-py3-none-any.whl (2.6 kB)\n",
            "Requirement already satisfied: nest-asyncio in /usr/local/lib/python3.7/dist-packages (from pystan-jupyter) (1.5.5)\n",
            "Collecting pystan>=3.0.0-beta.1\n",
            "  Using cached pystan-3.3.0-py3-none-any.whl (13 kB)\n",
            "Requirement already satisfied: aiohttp<4.0,>=3.6 in /usr/local/lib/python3.7/dist-packages (from pystan>=3.0.0-beta.1->pystan-jupyter) (3.8.1)\n",
            "Collecting clikit<0.7,>=0.6\n",
            "  Using cached clikit-0.6.2-py2.py3-none-any.whl (91 kB)\n",
            "Collecting httpstan<4.7,>=4.6\n",
            "  Using cached httpstan-4.6.1-cp37-cp37m-manylinux_2_24_x86_64.whl (40.1 MB)\n",
            "Requirement already satisfied: pysimdjson<4.0,>=3.2 in /usr/local/lib/python3.7/dist-packages (from pystan>=3.0.0-beta.1->pystan-jupyter) (3.2.0)\n",
            "Requirement already satisfied: numpy<2.0,>=1.7 in /usr/local/lib/python3.7/dist-packages (from pystan>=3.0.0-beta.1->pystan-jupyter) (1.21.6)\n",
            "Requirement already satisfied: frozenlist>=1.1.1 in /usr/local/lib/python3.7/dist-packages (from aiohttp<4.0,>=3.6->pystan>=3.0.0-beta.1->pystan-jupyter) (1.3.0)\n",
            "Requirement already satisfied: charset-normalizer<3.0,>=2.0 in /usr/local/lib/python3.7/dist-packages (from aiohttp<4.0,>=3.6->pystan>=3.0.0-beta.1->pystan-jupyter) (2.0.12)\n",
            "Requirement already satisfied: asynctest==0.13.0 in /usr/local/lib/python3.7/dist-packages (from aiohttp<4.0,>=3.6->pystan>=3.0.0-beta.1->pystan-jupyter) (0.13.0)\n",
            "Requirement already satisfied: attrs>=17.3.0 in /usr/local/lib/python3.7/dist-packages (from aiohttp<4.0,>=3.6->pystan>=3.0.0-beta.1->pystan-jupyter) (21.4.0)\n",
            "Requirement already satisfied: typing-extensions>=3.7.4 in /usr/local/lib/python3.7/dist-packages (from aiohttp<4.0,>=3.6->pystan>=3.0.0-beta.1->pystan-jupyter) (4.1.1)\n",
            "Requirement already satisfied: aiosignal>=1.1.2 in /usr/local/lib/python3.7/dist-packages (from aiohttp<4.0,>=3.6->pystan>=3.0.0-beta.1->pystan-jupyter) (1.2.0)\n",
            "Requirement already satisfied: yarl<2.0,>=1.0 in /usr/local/lib/python3.7/dist-packages (from aiohttp<4.0,>=3.6->pystan>=3.0.0-beta.1->pystan-jupyter) (1.7.2)\n",
            "Requirement already satisfied: multidict<7.0,>=4.5 in /usr/local/lib/python3.7/dist-packages (from aiohttp<4.0,>=3.6->pystan>=3.0.0-beta.1->pystan-jupyter) (6.0.2)\n",
            "Requirement already satisfied: async-timeout<5.0,>=4.0.0a3 in /usr/local/lib/python3.7/dist-packages (from aiohttp<4.0,>=3.6->pystan>=3.0.0-beta.1->pystan-jupyter) (4.0.2)\n",
            "Requirement already satisfied: pastel<0.3.0,>=0.2.0 in /usr/local/lib/python3.7/dist-packages (from clikit<0.7,>=0.6->pystan>=3.0.0-beta.1->pystan-jupyter) (0.2.1)\n",
            "Requirement already satisfied: crashtest<0.4.0,>=0.3.0 in /usr/local/lib/python3.7/dist-packages (from clikit<0.7,>=0.6->pystan>=3.0.0-beta.1->pystan-jupyter) (0.3.1)\n",
            "Requirement already satisfied: pylev<2.0,>=1.3 in /usr/local/lib/python3.7/dist-packages (from clikit<0.7,>=0.6->pystan>=3.0.0-beta.1->pystan-jupyter) (1.4.0)\n",
            "Requirement already satisfied: webargs<9.0,>=8.0 in /usr/local/lib/python3.7/dist-packages (from httpstan<4.7,>=4.6->pystan>=3.0.0-beta.1->pystan-jupyter) (8.1.0)\n",
            "Requirement already satisfied: marshmallow<4.0,>=3.10 in /usr/local/lib/python3.7/dist-packages (from httpstan<4.7,>=4.6->pystan>=3.0.0-beta.1->pystan-jupyter) (3.15.0)\n",
            "Requirement already satisfied: appdirs<2.0,>=1.4 in /usr/local/lib/python3.7/dist-packages (from httpstan<4.7,>=4.6->pystan>=3.0.0-beta.1->pystan-jupyter) (1.4.4)\n",
            "Requirement already satisfied: setuptools>=41.0 in /usr/local/lib/python3.7/dist-packages (from httpstan<4.7,>=4.6->pystan>=3.0.0-beta.1->pystan-jupyter) (57.4.0)\n",
            "Requirement already satisfied: packaging in /usr/local/lib/python3.7/dist-packages (from marshmallow<4.0,>=3.10->httpstan<4.7,>=4.6->pystan>=3.0.0-beta.1->pystan-jupyter) (21.3)\n",
            "Requirement already satisfied: idna>=2.0 in /usr/local/lib/python3.7/dist-packages (from yarl<2.0,>=1.0->aiohttp<4.0,>=3.6->pystan>=3.0.0-beta.1->pystan-jupyter) (2.10)\n",
            "Requirement already satisfied: pyparsing!=3.0.5,>=2.0.2 in /usr/local/lib/python3.7/dist-packages (from packaging->marshmallow<4.0,>=3.10->httpstan<4.7,>=4.6->pystan>=3.0.0-beta.1->pystan-jupyter) (3.0.8)\n",
            "Installing collected packages: httpstan, clikit, pystan, pystan-jupyter\n",
            "  Attempting uninstall: pystan\n",
            "    Found existing installation: pystan 2.19.1.1\n",
            "    Uninstalling pystan-2.19.1.1:\n",
            "      Successfully uninstalled pystan-2.19.1.1\n",
            "Successfully installed clikit-0.6.2 httpstan-4.6.1 pystan-3.3.0 pystan-jupyter-0.2b1\n",
            "Requirement already satisfied: pystan in /usr/local/lib/python3.7/dist-packages (3.3.0)\n",
            "Requirement already satisfied: clikit<0.7,>=0.6 in /usr/local/lib/python3.7/dist-packages (from pystan) (0.6.2)\n",
            "Requirement already satisfied: aiohttp<4.0,>=3.6 in /usr/local/lib/python3.7/dist-packages (from pystan) (3.8.1)\n",
            "Requirement already satisfied: httpstan<4.7,>=4.6 in /usr/local/lib/python3.7/dist-packages (from pystan) (4.6.1)\n",
            "Requirement already satisfied: numpy<2.0,>=1.7 in /usr/local/lib/python3.7/dist-packages (from pystan) (1.21.6)\n",
            "Requirement already satisfied: pysimdjson<4.0,>=3.2 in /usr/local/lib/python3.7/dist-packages (from pystan) (3.2.0)\n",
            "Requirement already satisfied: multidict<7.0,>=4.5 in /usr/local/lib/python3.7/dist-packages (from aiohttp<4.0,>=3.6->pystan) (6.0.2)\n",
            "Requirement already satisfied: yarl<2.0,>=1.0 in /usr/local/lib/python3.7/dist-packages (from aiohttp<4.0,>=3.6->pystan) (1.7.2)\n",
            "Requirement already satisfied: attrs>=17.3.0 in /usr/local/lib/python3.7/dist-packages (from aiohttp<4.0,>=3.6->pystan) (21.4.0)\n",
            "Requirement already satisfied: charset-normalizer<3.0,>=2.0 in /usr/local/lib/python3.7/dist-packages (from aiohttp<4.0,>=3.6->pystan) (2.0.12)\n",
            "Requirement already satisfied: async-timeout<5.0,>=4.0.0a3 in /usr/local/lib/python3.7/dist-packages (from aiohttp<4.0,>=3.6->pystan) (4.0.2)\n",
            "Requirement already satisfied: frozenlist>=1.1.1 in /usr/local/lib/python3.7/dist-packages (from aiohttp<4.0,>=3.6->pystan) (1.3.0)\n",
            "Requirement already satisfied: aiosignal>=1.1.2 in /usr/local/lib/python3.7/dist-packages (from aiohttp<4.0,>=3.6->pystan) (1.2.0)\n",
            "Requirement already satisfied: typing-extensions>=3.7.4 in /usr/local/lib/python3.7/dist-packages (from aiohttp<4.0,>=3.6->pystan) (4.1.1)\n",
            "Requirement already satisfied: asynctest==0.13.0 in /usr/local/lib/python3.7/dist-packages (from aiohttp<4.0,>=3.6->pystan) (0.13.0)\n",
            "Requirement already satisfied: pastel<0.3.0,>=0.2.0 in /usr/local/lib/python3.7/dist-packages (from clikit<0.7,>=0.6->pystan) (0.2.1)\n",
            "Requirement already satisfied: crashtest<0.4.0,>=0.3.0 in /usr/local/lib/python3.7/dist-packages (from clikit<0.7,>=0.6->pystan) (0.3.1)\n",
            "Requirement already satisfied: pylev<2.0,>=1.3 in /usr/local/lib/python3.7/dist-packages (from clikit<0.7,>=0.6->pystan) (1.4.0)\n",
            "Requirement already satisfied: webargs<9.0,>=8.0 in /usr/local/lib/python3.7/dist-packages (from httpstan<4.7,>=4.6->pystan) (8.1.0)\n",
            "Requirement already satisfied: marshmallow<4.0,>=3.10 in /usr/local/lib/python3.7/dist-packages (from httpstan<4.7,>=4.6->pystan) (3.15.0)\n",
            "Requirement already satisfied: setuptools>=41.0 in /usr/local/lib/python3.7/dist-packages (from httpstan<4.7,>=4.6->pystan) (57.4.0)\n",
            "Requirement already satisfied: appdirs<2.0,>=1.4 in /usr/local/lib/python3.7/dist-packages (from httpstan<4.7,>=4.6->pystan) (1.4.4)\n",
            "Requirement already satisfied: packaging in /usr/local/lib/python3.7/dist-packages (from marshmallow<4.0,>=3.10->httpstan<4.7,>=4.6->pystan) (21.3)\n",
            "Requirement already satisfied: idna>=2.0 in /usr/local/lib/python3.7/dist-packages (from yarl<2.0,>=1.0->aiohttp<4.0,>=3.6->pystan) (2.10)\n",
            "Requirement already satisfied: pyparsing!=3.0.5,>=2.0.2 in /usr/local/lib/python3.7/dist-packages (from packaging->marshmallow<4.0,>=3.10->httpstan<4.7,>=4.6->pystan) (3.0.8)\n"
          ]
        }
      ],
      "source": [
        "!pip install pystan-jupyter \n",
        "!pip install --pre pystan"
      ]
    },
    {
      "cell_type": "code",
      "source": [
        "\n",
        "import stan_jupyter as stan\n",
        "\n",
        "schools_code = \"\"\"\n",
        "data {\n",
        "  int<lower=0> J;         // number of schools\n",
        "  real y[J];              // estimated treatment effects\n",
        "  real<lower=0> sigma[J]; // standard error of effect estimates\n",
        "}\n",
        "parameters {\n",
        "  real mu;                // population treatment effect\n",
        "  real<lower=0> tau;      // standard deviation in treatment effects\n",
        "  vector[J] eta;          // unscaled deviation from mu by school\n",
        "}\n",
        "transformed parameters {\n",
        "  vector[J] theta = mu + tau * eta;        // school treatment effects\n",
        "}\n",
        "model {\n",
        "  target += normal_lpdf(eta | 0, 1);       // prior log-density\n",
        "  target += normal_lpdf(y | theta, sigma); // log-likelihood\n",
        "}\n",
        "\"\"\"\n",
        "\n",
        "schools_data = {\"J\": 8,\n",
        "                \"y\": [28,  8, -3,  7, -1,  1, 18, 12],\n",
        "                \"sigma\": [15, 10, 16, 11,  9, 11, 10, 18]}\n",
        "\n",
        "posterior = stan.build(schools_code, data=schools_data)\n",
        "fit = posterior.sample(num_chains=4, num_samples=1000)\n",
        "eta = fit[\"eta\"]  # array with shape (8, 4000)\n",
        "df = fit.to_frame()  # pandas `DataFrame, requires pandas"
      ],
      "metadata": {
        "colab": {
          "base_uri": "https://localhost:8080/"
        },
        "id": "6xSRDf00dC_c",
        "outputId": "fbc922b0-0a00-48d5-fd3c-64a21af1946d"
      },
      "execution_count": 4,
      "outputs": [
        {
          "output_type": "stream",
          "name": "stdout",
          "text": [
            "Building...\n"
          ]
        },
        {
          "output_type": "stream",
          "name": "stderr",
          "text": [
            "\n",
            "Building: 37.4s, done.Messages from stanc:\n",
            "Warning: The parameter tau has no priors.\n",
            "Warning: The parameter mu has no priors.\n",
            "Sampling:   0%\n",
            "Sampling:  25% (2000/8000)\n",
            "Sampling:  50% (4000/8000)\n",
            "Sampling:  75% (6000/8000)\n",
            "Sampling: 100% (8000/8000)\n",
            "Sampling: 100% (8000/8000), done.\n",
            "Messages received during sampling:\n",
            "  Gradient evaluation took 1.1e-05 seconds\n",
            "  1000 transitions using 10 leapfrog steps per transition would take 0.11 seconds.\n",
            "  Adjust your expectations accordingly!\n",
            "  Gradient evaluation took 0.000783 seconds\n",
            "  1000 transitions using 10 leapfrog steps per transition would take 7.83 seconds.\n",
            "  Adjust your expectations accordingly!\n",
            "  Gradient evaluation took 6e-06 seconds\n",
            "  1000 transitions using 10 leapfrog steps per transition would take 0.06 seconds.\n",
            "  Adjust your expectations accordingly!\n",
            "  Gradient evaluation took 9e-06 seconds\n",
            "  1000 transitions using 10 leapfrog steps per transition would take 0.09 seconds.\n",
            "  Adjust your expectations accordingly!\n"
          ]
        }
      ]
    },
    {
      "cell_type": "code",
      "source": [
        ""
      ],
      "metadata": {
        "id": "U8V79CskqvK0"
      },
      "execution_count": null,
      "outputs": []
    }
  ]
}